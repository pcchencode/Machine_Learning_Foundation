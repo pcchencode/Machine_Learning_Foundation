{
 "cells": [
  {
   "cell_type": "code",
   "execution_count": 5,
   "metadata": {},
   "outputs": [
    {
     "name": "stdout",
     "output_type": "stream",
     "text": [
      "#7: e_out = 0.126\n"
     ]
    },
    {
     "data": {
      "image/png": "[encoded data removed]",
      "text/plain": [
       "<matplotlib.figure.Figure at 0x118dcbc88>"
      ]
     },
     "metadata": {},
     "output_type": "display_data"
    }
   ],
   "source": [
    "## Date: 2017-12-27\n",
    "## Purpose: Machine Learning Fundation hw3_7\n",
    "## Author: Po-Chu Chen\n",
    "\n",
    "import numpy as np\n",
    "import matplotlib.pylab as plt\n",
    "\n",
    "def generate(N, flips_rate):\n",
    "    x1 = np.random.uniform(-1,1,N)\n",
    "    x2 = np.random.uniform(-1,1,N)\n",
    "    f = np.sign(x1**2+x2**2-0.6)\n",
    "    y = np.where(np.random.rand(N) < flips_rate, -f, f).T\n",
    "    return x1, x2, y\n",
    "\n",
    "def generate_X(N, flips_rate):\n",
    "    x1, x2, y = generate(N, flips_rate)  \n",
    "    X = np.vstack((np.ones_like(x1), x1, x2)).T\n",
    "    return X, y\n",
    "\n",
    "def generate_Z(N, flips_rate):\n",
    "    x1, x2, y = generate(N, flips_rate)\n",
    "    Z = np.vstack((np.ones_like(x1), x1, x2,x1*x2,x1**2,x2**2)).T\n",
    "    return Z, y\n",
    "\n",
    "def error(X, y, w):\n",
    "    y_predict = np.sign(X.dot(w))\n",
    "    return np.sum(y!=y_predict) / y.size\n",
    "\n",
    "N = 1000\n",
    "flips_rate = 0.1\n",
    "T=1000\n",
    "\n",
    "\n",
    "all_e_in = []\n",
    "for i in range(T):\n",
    "    X, y = generate_X(N, flips_rate)\n",
    "    w = np.linalg.pinv(X).dot(y)\n",
    "    e_in = error(X ,y ,w)\n",
    "    all_e_in.append(e_in)\n",
    "\n",
    "\n",
    "\n",
    "all_e_out = []\n",
    "all_w3 = []\n",
    "for i in range(T):\n",
    "    X, y = generate_Z(N, flips_rate)\n",
    "    w = np.linalg.pinv(X).dot(y)\n",
    "    Xt, yt = generate_Z(N, flips_rate) \n",
    "    e_out = error(Xt ,yt ,w)\n",
    "    all_e_out.append(e_out)\n",
    "    all_w3.append(w[3])\n",
    "\n",
    "\n",
    "print('#7: e_out =', np.mean(all_e_out))\n",
    "plt.figure()\n",
    "plt.xlabel('Eout')\n",
    "plt.ylabel('Frequency')\n",
    "plt.hist(all_e_out)\n",
    "plt.show()"
   ]
  },
  {
   "cell_type": "code",
   "execution_count": null,
   "metadata": {
    "collapsed": true
   },
   "outputs": [],
   "source": []
  }
 ],
 "metadata": {
  "kernelspec": {
   "display_name": "Python 3",
   "language": "python",
   "name": "python3"
  },
  "language_info": {
   "codemirror_mode": {
    "name": "ipython",
    "version": 3
   },
   "file_extension": ".py",
   "mimetype": "text/x-python",
   "name": "python",
   "nbconvert_exporter": "python",
   "pygments_lexer": "ipython3",
   "version": "3.6.2"
  }
 },
 "nbformat": 4,
 "nbformat_minor": 2
}
