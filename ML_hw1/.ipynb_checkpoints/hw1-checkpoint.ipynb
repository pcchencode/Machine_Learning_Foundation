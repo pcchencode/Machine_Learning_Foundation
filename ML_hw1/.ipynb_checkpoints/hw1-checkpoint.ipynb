{
 "cells": [
  {
   "cell_type": "code",
   "execution_count": 68,
   "metadata": {},
   "outputs": [
    {
     "name": "stdout",
     "output_type": "stream",
     "text": [
      "#Q.8 39.636\n"
     ]
    },
    {
     "data": {
      "image/png": "[encoded data removed]",
      "text/plain": [
       "<matplotlib.figure.Figure at 0x11c3d9c50>"
      ]
     },
     "metadata": {},
     "output_type": "display_data"
    }
   ],
   "source": [
    "## Date: 2017-10-12\n",
    "## Purpose: Machine Learning Fundation hw1\n",
    "## Author: Po-Chu Chen\n",
    "\n",
    "## Import the package\n",
    "import random\n",
    "import numpy as np \n",
    "import matplotlib.pyplot as pyplt\n",
    "\n",
    "# Define the function to import Xn, Yn vector of data-set\n",
    "def read_xy(fname):\n",
    "    data = np.loadtxt(fname)\n",
    "    m = data.shape[0]\n",
    "    x = np.hstack((np.ones((m, 1)), data[:,:-1])) # Adding the (1,1,1...) dimension to Vector Xn\n",
    "    y = data[:,-1] # Vector Yn\n",
    "    return x, y\n",
    "\n",
    "# Define the Sign function\n",
    "def sign(x):\n",
    "    vfunc = np.vectorize(lambda t: 1 if t > 0 else -1)\n",
    "    return vfunc(x)\n",
    "    \n",
    "# Define the PLA process whose algorithm visiting the point in a pre-determined and random order \n",
    "def PLA(x, y):\n",
    "    m, n = x.shape\n",
    "    w = np.zeros(n) # import zero-vector as the initial vector \n",
    "    steps = 0\n",
    "    indexs = np.arange(m)\n",
    "    random.shuffle(indexs)\n",
    "    pointer = 0\n",
    "    m_correct = 0\n",
    "    while m_correct < m:\n",
    "        i = indexs[pointer]\n",
    "        if  sign(x[i].dot(w)) != y[i]:\n",
    "            m_correct = 0 # if some point is incorrect, this will reset to 0 to let algorithm check the point again\n",
    "            w = w + y[i]*x[i]\n",
    "            steps = steps + 1 # Steps mean the # that vector W is modified\n",
    "        else:\n",
    "           m_correct = m_correct + 1 \n",
    "        pointer = pointer + 1 if pointer < m - 1 else 0\n",
    "    return w, steps\n",
    "\n",
    "\n",
    "# Start the Module\n",
    "if __name__ == '__main__': \n",
    "    \n",
    "    \n",
    "    x, y = read_xy('hw1_15_train.dat.txt')\n",
    "    # Q.8\n",
    "    T = 2000\n",
    "    all_steps = [PLA_random(x, y)[1] for k in range(T)] \n",
    "    print('#Q.8', np.mean(all_steps))\n",
    "    pyplt.xlabel('# of updates')\n",
    "    pyplt.ylabel('Frquency')\n",
    "    pyplt.hist(all_steps)\n",
    "    pyplt.show()\n",
    "    \n",
    "\n",
    "    "
   ]
  },
  {
   "cell_type": "code",
   "execution_count": 69,
   "metadata": {},
   "outputs": [
    {
     "name": "stdout",
     "output_type": "stream",
     "text": [
      "#Q.8 40.2965\n"
     ]
    },
    {
     "data": {
      "image/png": "[encoded data removed]",
      "text/plain": [
       "<matplotlib.figure.Figure at 0x11c5aef98>"
      ]
     },
     "metadata": {},
     "output_type": "display_data"
    }
   ],
   "source": [
    "## Date: 2017-10-12\n",
    "## Purpose: Machine Learning Fundation hw1\n",
    "## Author: Po-Chu Chen\n",
    "\n",
    "## Import the package\n",
    "import random\n",
    "import numpy as np \n",
    "import matplotlib.pyplot as pyplt\n",
    "\n",
    "# Define the function to import Xn, Yn vector of data-set\n",
    "def read_xy(fname):\n",
    "    data = np.loadtxt(fname)\n",
    "    m = data.shape[0]\n",
    "    x = np.hstack((np.ones((m, 1)), data[:,:-1])) # Adding the (1,1,1...) dimension to Vector Xn\n",
    "    y = data[:,-1] # Vector Yn\n",
    "    return x, y\n",
    "\n",
    "# Define the Sign function\n",
    "def sign(x):\n",
    "    vfunc = np.vectorize(lambda t: 1 if t > 0 else -1)\n",
    "    return vfunc(x)\n",
    "    \n",
    "# Define the PLA process whose algorithm visiting the point in a pre-determined and random order \n",
    "def PLA(x, y):\n",
    "    m, n = x.shape\n",
    "    w = np.zeros(n) # import zero-vector as the initial vector \n",
    "    steps = 0\n",
    "    indexs = np.arange(m)\n",
    "    random.shuffle(indexs)\n",
    "    pointer = 0\n",
    "    m_correct = 0\n",
    "    while m_correct < m:\n",
    "        i = indexs[pointer]\n",
    "        if  sign(x[i].dot(w)) != y[i]:\n",
    "            m_correct = 0 # if some point is incorrect, this will reset to 0 to let algorithm check the point again\n",
    "            w = w + y[i]*x[i]\n",
    "            steps = steps + 1 # Steps mean the # that vector W is modified\n",
    "        else:\n",
    "           m_correct = m_correct + 1 \n",
    "        pointer = pointer + 1 if pointer < m - 1 else 0\n",
    "    return w, steps\n",
    "\n",
    "\n",
    "# Start the Module\n",
    "if __name__ == '__main__': \n",
    "    \n",
    "    \n",
    "    x, y = read_xy('hw1_15_train.dat.txt')\n",
    "    # Q.8\n",
    "    T = 2000\n",
    "    all_steps = [PLA_random(x, y)[1] for k in range(T)] \n",
    "    print('#Q.8', np.mean(all_steps))\n",
    "    pyplt.xlabel('# of updates')\n",
    "    pyplt.ylabel('Frquency')\n",
    "    pyplt.hist(all_steps)\n",
    "    pyplt.show()\n",
    "    \n",
    "\n",
    "    "
   ]
  },
  {
   "cell_type": "code",
   "execution_count": null,
   "metadata": {
    "collapsed": true
   },
   "outputs": [],
   "source": []
  }
 ],
 "metadata": {
  "kernelspec": {
   "display_name": "Python 3",
   "language": "python",
   "name": "python3"
  },
  "language_info": {
   "codemirror_mode": {
    "name": "ipython",
    "version": 3
   },
   "file_extension": ".py",
   "mimetype": "text/x-python",
   "name": "python",
   "nbconvert_exporter": "python",
   "pygments_lexer": "ipython3",
   "version": "3.6.2"
  }
 },
 "nbformat": 4,
 "nbformat_minor": 2
}
